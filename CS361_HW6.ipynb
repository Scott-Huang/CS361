{
 "cells": [
  {
   "cell_type": "code",
   "execution_count": 1,
   "metadata": {},
   "outputs": [],
   "source": [
    "import numpy as np\n",
    "import statistics as st"
   ]
  },
  {
   "cell_type": "code",
   "execution_count": 2,
   "metadata": {},
   "outputs": [],
   "source": [
    "with open('data\\wine.data') as f:\n",
    "     read_data = f.read()\n",
    "read_data = read_data.split('\\n')"
   ]
  },
  {
   "cell_type": "code",
   "execution_count": 3,
   "metadata": {},
   "outputs": [
    {
     "name": "stdout",
     "output_type": "stream",
     "text": [
      "\n"
     ]
    },
    {
     "data": {
      "text/plain": [
       "2492"
      ]
     },
     "execution_count": 3,
     "metadata": {},
     "output_type": "execute_result"
    }
   ],
   "source": [
    "count = 0\n",
    "l = len(read_data)\n",
    "data = []\n",
    "for str in read_data:\n",
    "    for temp in str.split(','):\n",
    "        if temp.endswith(','):\n",
    "            temp = temp[:-2]\n",
    "        try:\n",
    "            data.append(float(temp))\n",
    "        except:\n",
    "            print(temp)\n",
    "len(data)"
   ]
  },
  {
   "cell_type": "code",
   "execution_count": 4,
   "metadata": {},
   "outputs": [],
   "source": [
    "data = np.array(data)\n",
    "data = np.reshape(data, (-1, 14))\n",
    "region1 = data[data[:,0] == 1]\n",
    "region3 = data[data[:,0] == 3]\n",
    "f1 = region1[:,7]\n",
    "f3 = region3[:,7]"
   ]
  },
  {
   "cell_type": "code",
   "execution_count": 7,
   "metadata": {},
   "outputs": [
    {
     "name": "stdout",
     "output_type": "stream",
     "text": [
      "2.982372881355932 0.3974936086367577 59 0.7814583333333333 0.293504065601863 48\n"
     ]
    }
   ],
   "source": [
    "print(f1.mean(), st.stdev(f1), f1.size, f3.mean(), st.stdev(f3), f3.size)"
   ]
  }
 ],
 "metadata": {
  "kernelspec": {
   "display_name": "Python 3",
   "language": "python",
   "name": "python3"
  },
  "language_info": {
   "codemirror_mode": {
    "name": "ipython",
    "version": 3
   },
   "file_extension": ".py",
   "mimetype": "text/x-python",
   "name": "python",
   "nbconvert_exporter": "python",
   "pygments_lexer": "ipython3",
   "version": "3.7.3"
  }
 },
 "nbformat": 4,
 "nbformat_minor": 4
}
