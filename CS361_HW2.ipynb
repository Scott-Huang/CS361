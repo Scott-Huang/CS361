{
 "cells": [
  {
   "cell_type": "code",
   "execution_count": 1,
   "metadata": {},
   "outputs": [],
   "source": [
    "import numpy as np\n",
    "import pandas as pd\n",
    "import matplotlib.pyplot as plt\n",
    "import urllib.request as urllib2"
   ]
  },
  {
   "cell_type": "markdown",
   "metadata": {},
   "source": [
    "### problem 4"
   ]
  },
  {
   "cell_type": "code",
   "execution_count": 73,
   "metadata": {},
   "outputs": [],
   "source": [
    "req = urllib2.Request(\"https://courses.grainger.illinois.edu/cs361/fa2020/smoking.txt\")\n",
    "response = urllib2.urlopen(req)\n",
    "the_page = response.read()\n",
    "raw = the_page.decode('utf-8').splitlines()"
   ]
  },
  {
   "cell_type": "code",
   "execution_count": 74,
   "metadata": {},
   "outputs": [],
   "source": [
    "raw = raw[-3][raw[-3].find('AL'):-4]\n",
    "raw = raw.split(' ')"
   ]
  },
  {
   "cell_type": "code",
   "execution_count": 98,
   "metadata": {},
   "outputs": [],
   "source": [
    "data = [[0.0 for x in range(6)] for y in range(len(raw) // 6)] \n",
    "for i in range(len(raw) // 6):\n",
    "    data[i][0] = raw[6*i]\n",
    "    for j in range(1,6):\n",
    "        data[i][j] = float(raw[6*i+j])"
   ]
  },
  {
   "cell_type": "code",
   "execution_count": 76,
   "metadata": {},
   "outputs": [],
   "source": [
    "df = pd.DataFrame([data[i][1:] for i in range(len(data))],index=[data[i][0] for i in range(len(data))], \n",
    "                  columns={'CIG', 'BLAD', 'LUNG', 'KID', 'LEUK'})"
   ]
  },
  {
   "cell_type": "code",
   "execution_count": 99,
   "metadata": {},
   "outputs": [],
   "source": [
    "data.remove(data[-20])\n",
    "data.remove(data[6])"
   ]
  },
  {
   "cell_type": "code",
   "execution_count": 100,
   "metadata": {},
   "outputs": [],
   "source": [
    "df_modified = pd.DataFrame([data[i][1:] for i in range(len(data))],index=[data[i][0] for i in range(len(data))], \n",
    "                  columns={'CIG', 'BLAD', 'LUNG', 'KID', 'LEUK'})"
   ]
  },
  {
   "cell_type": "code",
   "execution_count": 53,
   "metadata": {},
   "outputs": [
    {
     "data": {
      "text/html": [
       "<div>\n",
       "<style scoped>\n",
       "    .dataframe tbody tr th:only-of-type {\n",
       "        vertical-align: middle;\n",
       "    }\n",
       "\n",
       "    .dataframe tbody tr th {\n",
       "        vertical-align: top;\n",
       "    }\n",
       "\n",
       "    .dataframe thead th {\n",
       "        text-align: right;\n",
       "    }\n",
       "</style>\n",
       "<table border=\"1\" class=\"dataframe\">\n",
       "  <thead>\n",
       "    <tr style=\"text-align: right;\">\n",
       "      <th></th>\n",
       "      <th>CIG</th>\n",
       "      <th>LUNG</th>\n",
       "      <th>BLAD</th>\n",
       "      <th>KID</th>\n",
       "      <th>LEUK</th>\n",
       "    </tr>\n",
       "  </thead>\n",
       "  <tbody>\n",
       "    <tr>\n",
       "      <th>CIG</th>\n",
       "      <td>1.000000</td>\n",
       "      <td>0.703622</td>\n",
       "      <td>0.697403</td>\n",
       "      <td>0.487390</td>\n",
       "      <td>-0.068481</td>\n",
       "    </tr>\n",
       "    <tr>\n",
       "      <th>LUNG</th>\n",
       "      <td>0.703622</td>\n",
       "      <td>1.000000</td>\n",
       "      <td>0.658501</td>\n",
       "      <td>0.358814</td>\n",
       "      <td>0.162157</td>\n",
       "    </tr>\n",
       "    <tr>\n",
       "      <th>BLAD</th>\n",
       "      <td>0.697403</td>\n",
       "      <td>0.658501</td>\n",
       "      <td>1.000000</td>\n",
       "      <td>0.282743</td>\n",
       "      <td>-0.151584</td>\n",
       "    </tr>\n",
       "    <tr>\n",
       "      <th>KID</th>\n",
       "      <td>0.487390</td>\n",
       "      <td>0.358814</td>\n",
       "      <td>0.282743</td>\n",
       "      <td>1.000000</td>\n",
       "      <td>0.188713</td>\n",
       "    </tr>\n",
       "    <tr>\n",
       "      <th>LEUK</th>\n",
       "      <td>-0.068481</td>\n",
       "      <td>0.162157</td>\n",
       "      <td>-0.151584</td>\n",
       "      <td>0.188713</td>\n",
       "      <td>1.000000</td>\n",
       "    </tr>\n",
       "  </tbody>\n",
       "</table>\n",
       "</div>"
      ],
      "text/plain": [
       "           CIG      LUNG      BLAD       KID      LEUK\n",
       "CIG   1.000000  0.703622  0.697403  0.487390 -0.068481\n",
       "LUNG  0.703622  1.000000  0.658501  0.358814  0.162157\n",
       "BLAD  0.697403  0.658501  1.000000  0.282743 -0.151584\n",
       "KID   0.487390  0.358814  0.282743  1.000000  0.188713\n",
       "LEUK -0.068481  0.162157 -0.151584  0.188713  1.000000"
      ]
     },
     "execution_count": 53,
     "metadata": {},
     "output_type": "execute_result"
    }
   ],
   "source": [
    "df.corr()"
   ]
  },
  {
   "cell_type": "code",
   "execution_count": 101,
   "metadata": {},
   "outputs": [
    {
     "data": {
      "text/html": [
       "<div>\n",
       "<style scoped>\n",
       "    .dataframe tbody tr th:only-of-type {\n",
       "        vertical-align: middle;\n",
       "    }\n",
       "\n",
       "    .dataframe tbody tr th {\n",
       "        vertical-align: top;\n",
       "    }\n",
       "\n",
       "    .dataframe thead th {\n",
       "        text-align: right;\n",
       "    }\n",
       "</style>\n",
       "<table border=\"1\" class=\"dataframe\">\n",
       "  <thead>\n",
       "    <tr style=\"text-align: right;\">\n",
       "      <th></th>\n",
       "      <th>CIG</th>\n",
       "      <th>LUNG</th>\n",
       "      <th>BLAD</th>\n",
       "      <th>KID</th>\n",
       "      <th>LEUK</th>\n",
       "    </tr>\n",
       "  </thead>\n",
       "  <tbody>\n",
       "    <tr>\n",
       "      <th>CIG</th>\n",
       "      <td>1.000000</td>\n",
       "      <td>0.607626</td>\n",
       "      <td>0.714480</td>\n",
       "      <td>0.579080</td>\n",
       "      <td>-0.101009</td>\n",
       "    </tr>\n",
       "    <tr>\n",
       "      <th>LUNG</th>\n",
       "      <td>0.607626</td>\n",
       "      <td>1.000000</td>\n",
       "      <td>0.640490</td>\n",
       "      <td>0.370746</td>\n",
       "      <td>0.183221</td>\n",
       "    </tr>\n",
       "    <tr>\n",
       "      <th>BLAD</th>\n",
       "      <td>0.714480</td>\n",
       "      <td>0.640490</td>\n",
       "      <td>1.000000</td>\n",
       "      <td>0.266764</td>\n",
       "      <td>-0.172279</td>\n",
       "    </tr>\n",
       "    <tr>\n",
       "      <th>KID</th>\n",
       "      <td>0.579080</td>\n",
       "      <td>0.370746</td>\n",
       "      <td>0.266764</td>\n",
       "      <td>1.000000</td>\n",
       "      <td>0.184801</td>\n",
       "    </tr>\n",
       "    <tr>\n",
       "      <th>LEUK</th>\n",
       "      <td>-0.101009</td>\n",
       "      <td>0.183221</td>\n",
       "      <td>-0.172279</td>\n",
       "      <td>0.184801</td>\n",
       "      <td>1.000000</td>\n",
       "    </tr>\n",
       "  </tbody>\n",
       "</table>\n",
       "</div>"
      ],
      "text/plain": [
       "           CIG      LUNG      BLAD       KID      LEUK\n",
       "CIG   1.000000  0.607626  0.714480  0.579080 -0.101009\n",
       "LUNG  0.607626  1.000000  0.640490  0.370746  0.183221\n",
       "BLAD  0.714480  0.640490  1.000000  0.266764 -0.172279\n",
       "KID   0.579080  0.370746  0.266764  1.000000  0.184801\n",
       "LEUK -0.101009  0.183221 -0.172279  0.184801  1.000000"
      ]
     },
     "execution_count": 101,
     "metadata": {},
     "output_type": "execute_result"
    }
   ],
   "source": [
    "df_modified.corr()"
   ]
  },
  {
   "cell_type": "code",
   "execution_count": 102,
   "metadata": {},
   "outputs": [],
   "source": [
    "data = df.to_numpy()\n",
    "data_mod = df_modified.to_numpy()"
   ]
  },
  {
   "cell_type": "code",
   "execution_count": 133,
   "metadata": {},
   "outputs": [
    {
     "data": {
      "image/png": "[encoded data removed]",
      "text/plain": [
       "<Figure size 432x288 with 1 Axes>"
      ]
     },
     "metadata": {
      "needs_background": "light"
     },
     "output_type": "display_data"
    }
   ],
   "source": [
    "ax = df.plot.scatter('CIG', 'LUNG')\n",
    "for i in range(df.size//5):\n",
    "    ax.text(df['CIG'][i], df['LUNG'][i], str(df.index[i]))"
   ]
  },
  {
   "cell_type": "markdown",
   "metadata": {},
   "source": [
    "### problem 5"
   ]
  },
  {
   "cell_type": "code",
   "execution_count": 2,
   "metadata": {},
   "outputs": [],
   "source": [
    "ko = pd.read_csv('KO.csv')  \n",
    "pep = pd.read_csv('PEP.csv')  "
   ]
  },
  {
   "cell_type": "code",
   "execution_count": 3,
   "metadata": {},
   "outputs": [],
   "source": [
    "kop = ko['Adj Close'].to_numpy()\n",
    "pepp = pep['Adj Close'].to_numpy()"
   ]
  },
  {
   "cell_type": "code",
   "execution_count": 146,
   "metadata": {},
   "outputs": [
    {
     "data": {
      "text/plain": [
       "0.6632975687798601"
      ]
     },
     "execution_count": 146,
     "metadata": {},
     "output_type": "execute_result"
    }
   ],
   "source": [
    "np.corrcoef(kop,pepp)[0,1]"
   ]
  },
  {
   "cell_type": "code",
   "execution_count": 156,
   "metadata": {},
   "outputs": [
    {
     "data": {
      "image/png": "[encoded data removed]",
      "text/plain": [
       "<Figure size 432x288 with 1 Axes>"
      ]
     },
     "metadata": {
      "needs_background": "light"
     },
     "output_type": "display_data"
    }
   ],
   "source": [
    "plt.scatter(kop,pepp)\n",
    "plt.xlabel('KO')\n",
    "plt.ylabel('PEP')\n",
    "plt.title(\"Scatter plot of stock price of PEP over KO\")\n",
    "plt.show()"
   ]
  },
  {
   "cell_type": "code",
   "execution_count": 9,
   "metadata": {},
   "outputs": [
    {
     "data": {
      "image/png": "[encoded data removed]",
      "text/plain": [
       "<Figure size 432x288 with 1 Axes>"
      ]
     },
     "metadata": {
      "needs_background": "light"
     },
     "output_type": "display_data"
    }
   ],
   "source": [
    "coef = np.polyfit(kop, pepp, 1)\n",
    "poly1d_fn = np.poly1d(coef) \n",
    "plt.plot(kop,pepp, 'yo', kop, poly1d_fn(kop), '--k')\n",
    "plt.xlabel('data/KO')\n",
    "plt.ylabel('data/PEP')\n",
    "plt.title(\"Plot of stock price of PEP over KO with prediction line\")\n",
    "plt.show()"
   ]
  }
 ],
 "metadata": {
  "kernelspec": {
   "display_name": "Python 3",
   "language": "python",
   "name": "python3"
  },
  "language_info": {
   "codemirror_mode": {
    "name": "ipython",
    "version": 3
   },
   "file_extension": ".py",
   "mimetype": "text/x-python",
   "name": "python",
   "nbconvert_exporter": "python",
   "pygments_lexer": "ipython3",
   "version": "3.7.3"
  }
 },
 "nbformat": 4,
 "nbformat_minor": 4
}
