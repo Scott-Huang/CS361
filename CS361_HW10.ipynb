{
 "cells": [
  {
   "cell_type": "code",
   "execution_count": 1,
   "metadata": {},
   "outputs": [],
   "source": [
    "import numpy as np\n",
    "import pandas as pd\n",
    "from statsmodels.tools import categorical\n",
    "from sklearn.model_selection import train_test_split, GridSearchCV\n",
    "from sklearn.ensemble import RandomForestClassifier\n",
    "from sklearn import metrics, tree\n",
    "from sklearn.svm import SVC\n",
    "from sklearn.naive_bayes import GaussianNB"
   ]
  },
  {
   "cell_type": "code",
   "execution_count": 2,
   "metadata": {},
   "outputs": [],
   "source": [
    "clf=RandomForestClassifier(n_estimators=100, max_depth = 50)\n",
    "model = tree.DecisionTreeClassifier(max_depth = 50)"
   ]
  },
  {
   "cell_type": "markdown",
   "metadata": {},
   "source": [
    "### Problem 1"
   ]
  },
  {
   "cell_type": "code",
   "execution_count": 3,
   "metadata": {},
   "outputs": [],
   "source": [
    "mushroom_raw = np.loadtxt(\"data/agaricus-lepiota.data\", dtype = 'O')\n",
    "mushroom_features = np.zeros((mushroom_raw.shape[0], 22), dtype = 'O')\n",
    "mushroom_label = np.zeros(mushroom_raw.shape)\n",
    "for i in range(mushroom_raw.shape[0]):\n",
    "    s = str(mushroom_raw[i])\n",
    "    if s[0] == 'p':\n",
    "        mushroom_label[i] = 1\n",
    "    s = s[2:]\n",
    "    for j in range(22):\n",
    "        temp = s.split(',')\n",
    "        mushroom_features[i,j] = temp[j]"
   ]
  },
  {
   "cell_type": "code",
   "execution_count": 4,
   "metadata": {},
   "outputs": [
    {
     "name": "stderr",
     "output_type": "stream",
     "text": [
      "F:\\tools\\Anaconda\\lib\\site-packages\\statsmodels\\tools\\tools.py:162: FutureWarning: categorical is deprecated. Use pandas Categorical to represent categorical data and can get_dummies to construct dummy arrays. It will be removed after release 0.13.\n",
      "  FutureWarning\n"
     ]
    }
   ],
   "source": [
    "for i in range(22):\n",
    "    temp = categorical(mushroom_features[:,i], drop=True)\n",
    "    temp = np.argwhere(temp == 1)\n",
    "    mushroom_features[:,i] = temp[:,1]\n",
    "mushroom_features = mushroom_features.astype('float64')"
   ]
  },
  {
   "cell_type": "code",
   "execution_count": 5,
   "metadata": {},
   "outputs": [],
   "source": [
    "X_train, X_test, y_train, y_test = train_test_split(mushroom_features, mushroom_label, test_size=0.2)"
   ]
  },
  {
   "cell_type": "code",
   "execution_count": 6,
   "metadata": {},
   "outputs": [
    {
     "name": "stdout",
     "output_type": "stream",
     "text": [
      "Accuracy: 1.0\n"
     ]
    },
    {
     "data": {
      "text/plain": [
       "array([[831,   0],\n",
       "       [  0, 794]], dtype=int64)"
      ]
     },
     "execution_count": 6,
     "metadata": {},
     "output_type": "execute_result"
    }
   ],
   "source": [
    "clf.fit(X_train,y_train)\n",
    "y_pred=clf.predict(X_test)\n",
    "print(\"Accuracy:\",metrics.accuracy_score(y_test, y_pred))\n",
    "metrics.confusion_matrix(y_test, y_pred)"
   ]
  },
  {
   "cell_type": "code",
   "execution_count": 7,
   "metadata": {},
   "outputs": [
    {
     "data": {
      "text/plain": [
       "array([15, 16,  5,  0, 17,  1, 13,  2, 14,  9], dtype=int64)"
      ]
     },
     "execution_count": 7,
     "metadata": {},
     "output_type": "execute_result"
    }
   ],
   "source": [
    "imp_features = np.argsort(clf.feature_importances_)\n",
    "imp_features[:10]"
   ]
  },
  {
   "cell_type": "code",
   "execution_count": 8,
   "metadata": {},
   "outputs": [
    {
     "name": "stdout",
     "output_type": "stream",
     "text": [
      "Accuracy: 0.9076923076923077\n"
     ]
    },
    {
     "data": {
      "text/plain": [
       "array([[772,  59],\n",
       "       [ 91, 703]], dtype=int64)"
      ]
     },
     "execution_count": 8,
     "metadata": {},
     "output_type": "execute_result"
    }
   ],
   "source": [
    "clf.fit(X_train[:,imp_features[:10]],y_train)\n",
    "y_pred=clf.predict(X_test[:,imp_features[:10]])\n",
    "print(\"Accuracy:\",metrics.accuracy_score(y_test, y_pred))\n",
    "metrics.confusion_matrix(y_test, y_pred)"
   ]
  },
  {
   "cell_type": "code",
   "execution_count": 9,
   "metadata": {},
   "outputs": [
    {
     "data": {
      "text/plain": [
       "0.05082804023156714"
      ]
     },
     "execution_count": 9,
     "metadata": {},
     "output_type": "execute_result"
    }
   ],
   "source": [
    "cm = metrics.confusion_matrix(y_test, y_pred)\n",
    "prob_falsepositive = cm[1,0] / cm[:,0].sum()\n",
    "prob_poison = mushroom_label.sum() / mushroom_label.size\n",
    "prob_falsepositive * prob_poison"
   ]
  },
  {
   "cell_type": "markdown",
   "metadata": {},
   "source": [
    "### Problem 2"
   ]
  },
  {
   "cell_type": "code",
   "execution_count": 10,
   "metadata": {},
   "outputs": [],
   "source": [
    "with open('data\\EEG Eye State.arff') as f:\n",
    "     read_data = f.read()\n",
    "read_data = read_data.split('\\n')\n",
    "eye_attributes = read_data[:19]"
   ]
  },
  {
   "cell_type": "code",
   "execution_count": 11,
   "metadata": {},
   "outputs": [],
   "source": [
    "eye_raw = np.zeros((len(read_data)-19, 15))\n",
    "for i in range(19, len(read_data)-1):\n",
    "    eye_raw[i-19] = np.fromstring(read_data[i], dtype=float, sep=',')\n",
    "eye_features = eye_raw[:,:14]\n",
    "eye_label = eye_raw[:,14]"
   ]
  },
  {
   "cell_type": "code",
   "execution_count": 12,
   "metadata": {},
   "outputs": [
    {
     "name": "stdout",
     "output_type": "stream",
     "text": [
      "Accuracy: 0.8335001668335001\n"
     ]
    },
    {
     "data": {
      "text/plain": [
       "array([[1421,  231],\n",
       "       [ 268, 1077]], dtype=int64)"
      ]
     },
     "execution_count": 12,
     "metadata": {},
     "output_type": "execute_result"
    }
   ],
   "source": [
    "X_train, X_test, y_train, y_test = train_test_split(eye_features, eye_label, test_size=0.2)\n",
    "model.fit(X_train, y_train)\n",
    "y_pred = model.predict(X_test)\n",
    "print(\"Accuracy:\",metrics.accuracy_score(y_test, y_pred))\n",
    "metrics.confusion_matrix(y_test, y_pred)"
   ]
  },
  {
   "cell_type": "code",
   "execution_count": 13,
   "metadata": {},
   "outputs": [
    {
     "name": "stdout",
     "output_type": "stream",
     "text": [
      "Accuracy: 0.9312645979312646\n"
     ]
    },
    {
     "data": {
      "text/plain": [
       "array([[1588,   64],\n",
       "       [ 142, 1203]], dtype=int64)"
      ]
     },
     "execution_count": 13,
     "metadata": {},
     "output_type": "execute_result"
    }
   ],
   "source": [
    "clf.fit(X_train,y_train)\n",
    "y_pred=clf.predict(X_test)\n",
    "print(\"Accuracy:\",metrics.accuracy_score(y_test, y_pred))\n",
    "metrics.confusion_matrix(y_test, y_pred)"
   ]
  },
  {
   "cell_type": "code",
   "execution_count": 14,
   "metadata": {},
   "outputs": [
    {
     "data": {
      "text/plain": [
       "27"
      ]
     },
     "execution_count": 14,
     "metadata": {},
     "output_type": "execute_result"
    }
   ],
   "source": [
    "model.get_depth()"
   ]
  },
  {
   "cell_type": "markdown",
   "metadata": {},
   "source": [
    "### Problem 4"
   ]
  },
  {
   "cell_type": "code",
   "execution_count": 15,
   "metadata": {},
   "outputs": [
    {
     "name": "stdout",
     "output_type": "stream",
     "text": [
      "Accuracy: 0.6436436436436437\n"
     ]
    },
    {
     "data": {
      "text/plain": [
       "array([[1297,  355],\n",
       "       [ 713,  632]], dtype=int64)"
      ]
     },
     "execution_count": 15,
     "metadata": {},
     "output_type": "execute_result"
    }
   ],
   "source": [
    "param_grid = { \n",
    "    'C': [1, 0.025],\n",
    "    'kernel': ['linear', 'poly'],\n",
    "}\n",
    "CV_svm = GridSearchCV(estimator=SVC(), param_grid=param_grid, cv= 5)\n",
    "CV_svm.fit(X_train, y_train)\n",
    "\n",
    "y_pred = CV_svm.predict(X_test)\n",
    "print(\"Accuracy:\",metrics.accuracy_score(y_test, y_pred))\n",
    "metrics.confusion_matrix(y_test, y_pred)"
   ]
  },
  {
   "cell_type": "code",
   "execution_count": 16,
   "metadata": {},
   "outputs": [
    {
     "name": "stdout",
     "output_type": "stream",
     "text": [
      "Accuracy: 0.4481147814481148\n"
     ]
    },
    {
     "data": {
      "text/plain": [
       "array([[  31, 1621],\n",
       "       [  33, 1312]], dtype=int64)"
      ]
     },
     "execution_count": 16,
     "metadata": {},
     "output_type": "execute_result"
    }
   ],
   "source": [
    "param_grid = { \n",
    "    'var_smoothing': [1e-9, 1e-5],\n",
    "}\n",
    "CV_nb = GridSearchCV(estimator=GaussianNB(), param_grid=param_grid, cv= 5)\n",
    "CV_nb.fit(X_train, y_train)\n",
    "\n",
    "y_pred = CV_nb.predict(X_test)\n",
    "print(\"Accuracy:\",metrics.accuracy_score(y_test, y_pred))\n",
    "metrics.confusion_matrix(y_test, y_pred)"
   ]
  },
  {
   "cell_type": "code",
   "execution_count": 17,
   "metadata": {},
   "outputs": [
    {
     "name": "stdout",
     "output_type": "stream",
     "text": [
      "Accuracy: 0.9282615949282615\n"
     ]
    },
    {
     "data": {
      "text/plain": [
       "array([[1582,   70],\n",
       "       [ 145, 1200]], dtype=int64)"
      ]
     },
     "execution_count": 17,
     "metadata": {},
     "output_type": "execute_result"
    }
   ],
   "source": [
    "param_grid = { \n",
    "    'n_estimators': [10, 100],\n",
    "}\n",
    "CV_nb = GridSearchCV(estimator=RandomForestClassifier(), param_grid=param_grid, cv= 5)\n",
    "CV_nb.fit(X_train, y_train)\n",
    "\n",
    "y_pred = CV_nb.predict(X_test)\n",
    "print(\"Accuracy:\",metrics.accuracy_score(y_test, y_pred))\n",
    "metrics.confusion_matrix(y_test, y_pred)"
   ]
  },
  {
   "cell_type": "markdown",
   "metadata": {},
   "source": [
    "### Problem 3"
   ]
  },
  {
   "cell_type": "code",
   "execution_count": 18,
   "metadata": {},
   "outputs": [],
   "source": [
    "patient_raw = np.loadtxt(\"data\\haberman.data\",delimiter=',')\n",
    "patient_features = patient_raw[:,:3]\n",
    "patient_label = patient_raw[:,3]"
   ]
  },
  {
   "cell_type": "code",
   "execution_count": 19,
   "metadata": {},
   "outputs": [
    {
     "name": "stdout",
     "output_type": "stream",
     "text": [
      "Accuracy: 0.6451612903225806\n"
     ]
    },
    {
     "data": {
      "text/plain": [
       "array([[38, 11],\n",
       "       [11,  2]], dtype=int64)"
      ]
     },
     "execution_count": 19,
     "metadata": {},
     "output_type": "execute_result"
    }
   ],
   "source": [
    "X_train, X_test, y_train, y_test = train_test_split(patient_features, patient_label, test_size=0.2)\n",
    "model.fit(X_train, y_train)\n",
    "y_pred = model.predict(X_test)\n",
    "print(\"Accuracy:\",metrics.accuracy_score(y_test, y_pred))\n",
    "metrics.confusion_matrix(y_test, y_pred)"
   ]
  },
  {
   "cell_type": "code",
   "execution_count": 20,
   "metadata": {},
   "outputs": [
    {
     "name": "stdout",
     "output_type": "stream",
     "text": [
      "Accuracy: 0.6935483870967742\n"
     ]
    },
    {
     "data": {
      "text/plain": [
       "array([[42,  7],\n",
       "       [12,  1]], dtype=int64)"
      ]
     },
     "execution_count": 20,
     "metadata": {},
     "output_type": "execute_result"
    }
   ],
   "source": [
    "clf.fit(X_train,y_train)\n",
    "y_pred=clf.predict(X_test)\n",
    "print(\"Accuracy:\",metrics.accuracy_score(y_test, y_pred))\n",
    "metrics.confusion_matrix(y_test, y_pred)"
   ]
  },
  {
   "cell_type": "code",
   "execution_count": 29,
   "metadata": {},
   "outputs": [],
   "source": [
    "N = 50\n",
    "accuracy_decision_tree = np.zeros(N)\n",
    "accuracy_random_forest = np.zeros(N)\n",
    "for i in range(N):\n",
    "    X_train, X_test, y_train, y_test = train_test_split(patient_features, patient_label, test_size=0.2)\n",
    "    model.fit(X_train, y_train)\n",
    "    y_pred = model.predict(X_test)\n",
    "    temp1 = metrics.accuracy_score(y_test, y_pred)\n",
    "    accuracy_decision_tree[i] = temp1\n",
    "    \n",
    "    clf.fit(X_train,y_train)\n",
    "    y_pred=clf.predict(X_test)\n",
    "    temp2 = metrics.accuracy_score(y_test, y_pred)\n",
    "    accuracy_random_forest[i] = temp2\n",
    "    \n",
    "    #print(temp1, temp2)"
   ]
  },
  {
   "cell_type": "code",
   "execution_count": 30,
   "metadata": {},
   "outputs": [
    {
     "data": {
      "image/png": "[encoded data removed]",
      "text/plain": [
       "<Figure size 432x288 with 1 Axes>"
      ]
     },
     "metadata": {
      "needs_background": "light"
     },
     "output_type": "display_data"
    },
    {
     "name": "stdout",
     "output_type": "stream",
     "text": [
      "tree mean:  0.6593548387096775 forest mean:  0.7019354838709678\n"
     ]
    }
   ],
   "source": [
    "import matplotlib.pyplot as plt\n",
    "\n",
    "plt.hist(accuracy_decision_tree, label='tree')\n",
    "plt.hist(accuracy_random_forest, label='forest')\n",
    "plt.legend()\n",
    "plt.title(\"Results of accuracies of decision tree and random forest\")\n",
    "plt.show()\n",
    "print(\"tree mean: \", accuracy_decision_tree.mean(), \"forest mean: \", accuracy_random_forest.mean())"
   ]
  }
 ],
 "metadata": {
  "kernelspec": {
   "display_name": "Python 3",
   "language": "python",
   "name": "python3"
  },
  "language_info": {
   "codemirror_mode": {
    "name": "ipython",
    "version": 3
   },
   "file_extension": ".py",
   "mimetype": "text/x-python",
   "name": "python",
   "nbconvert_exporter": "python",
   "pygments_lexer": "ipython3",
   "version": "3.7.3"
  }
 },
 "nbformat": 4,
 "nbformat_minor": 4
}
